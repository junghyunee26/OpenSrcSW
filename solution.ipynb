{
 "cells": [
  {
   "cell_type": "code",
   "execution_count": 47,
   "metadata": {},
   "outputs": [
    {
     "name": "stdout",
     "output_type": "stream",
     "text": [
      "( 1 , 2 )\n",
      "( 3 , 4 )\n"
     ]
    },
    {
     "ename": "TypeError",
     "evalue": "unsupported operand type(s) for +: 'Point' and 'Point'",
     "output_type": "error",
     "traceback": [
      "\u001b[1;31m---------------------------------------------------------------------------\u001b[0m",
      "\u001b[1;31mTypeError\u001b[0m                                 Traceback (most recent call last)",
      "\u001b[1;32m<ipython-input-47-37a42daa9698>\u001b[0m in \u001b[0;36m<module>\u001b[1;34m\u001b[0m\n\u001b[0;32m      9\u001b[0m \u001b[0mb\u001b[0m\u001b[1;33m.\u001b[0m\u001b[0mshow\u001b[0m\u001b[1;33m(\u001b[0m\u001b[1;36m3\u001b[0m\u001b[1;33m,\u001b[0m\u001b[1;36m4\u001b[0m\u001b[1;33m)\u001b[0m\u001b[1;33m\u001b[0m\u001b[1;33m\u001b[0m\u001b[0m\n\u001b[0;32m     10\u001b[0m \u001b[1;33m\u001b[0m\u001b[0m\n\u001b[1;32m---> 11\u001b[1;33m \u001b[0ma\u001b[0m \u001b[1;33m=\u001b[0m \u001b[0ma\u001b[0m\u001b[1;33m+\u001b[0m\u001b[0mb\u001b[0m\u001b[1;33m\u001b[0m\u001b[1;33m\u001b[0m\u001b[0m\n\u001b[0m\u001b[0;32m     12\u001b[0m \u001b[0ma\u001b[0m\u001b[1;33m.\u001b[0m\u001b[0mshow\u001b[0m\u001b[1;33m(\u001b[0m\u001b[1;33m)\u001b[0m\u001b[1;33m\u001b[0m\u001b[1;33m\u001b[0m\u001b[0m\n",
      "\u001b[1;31mTypeError\u001b[0m: unsupported operand type(s) for +: 'Point' and 'Point'"
     ]
    }
   ],
   "source": [
    "class Point:\n",
    "    def show(self,x,y):\n",
    "        print(\"(\",x,\",\",y,\")\")\n",
    "    \n",
    "a = Point()\n",
    "a.show(1,2)\n",
    "\n",
    "b = Point()\n",
    "b.show(3,4)\n",
    "\n",
    "a = a+b\n",
    "a.show()"
   ]
  },
  {
   "cell_type": "code",
   "execution_count": 49,
   "metadata": {},
   "outputs": [
    {
     "ename": "SyntaxError",
     "evalue": "invalid syntax (<ipython-input-49-614d3cbdd033>, line 18)",
     "output_type": "error",
     "traceback": [
      "\u001b[1;36m  File \u001b[1;32m\"<ipython-input-49-614d3cbdd033>\"\u001b[1;36m, line \u001b[1;32m18\u001b[0m\n\u001b[1;33m    gap_temp = (high - low)++\u001b[0m\n\u001b[1;37m                             ^\u001b[0m\n\u001b[1;31mSyntaxError\u001b[0m\u001b[1;31m:\u001b[0m invalid syntax\n"
     ]
    }
   ],
   "source": [
    "#2\n",
    "import csv\n",
    "\n",
    "max_temp, gap_temp = -999, -999\n",
    "max_date, gap_date = '',''\n",
    "\n",
    "f = open('seoul.csv', 'r', encoding = 'cp949')\n",
    "data = csv.reader(f, delimiter = ',')\n",
    "header = next(data)\n",
    "\n",
    "for row in data:\n",
    "    if row[4] != '' and row[3] != '':\n",
    "        date = row[0]\n",
    "        high = float(row[4])\n",
    "        low = float(row[3])\n",
    "        if row[0].split('-')[2]<=7:\n",
    "            if high - low > gap_temp:\n",
    "                gap_temp = (high - low)++\n",
    "                gap_date = date\n",
    "            elif high > max_temp:\n",
    "                max_temp1 = high\n",
    "                max_date1 = date\n",
    "                \n",
    "        if 7<(row[0].split('-')[2])<=14:\n",
    "            if high - low > gap_temp:\n",
    "                gap_temp = (high - low)++\n",
    "                gap_date = date\n",
    "            elif high > max_temp:\n",
    "                max_temp2 = high\n",
    "                max_date2 = date\n",
    "                \n",
    "        if 14<(row[0].split('-')[2])<=21:\n",
    "            if high - low > gap_temp:\n",
    "                gap_temp = (high - low)++\n",
    "                gap_date = date\n",
    "            elif high > max_temp:\n",
    "                max_temp3 = high\n",
    "                max_date3 = date\n",
    "                \n",
    "        if 21<(row[0].split('-')[2])<=28:\n",
    "            if high - low > gap_temp:\n",
    "                gap_temp = (high - low)++\n",
    "                gap_date = date\n",
    "            elif high > max_temp:\n",
    "                max_temp4 = high\n",
    "                max_date4 = date\n",
    "                \n",
    "f.close()\n",
    "print('Max Week = '+ max_date)"
   ]
  },
  {
   "cell_type": "code",
   "execution_count": null,
   "metadata": {},
   "outputs": [],
   "source": []
  }
 ],
 "metadata": {
  "kernelspec": {
   "display_name": "Python 3",
   "language": "python",
   "name": "python3"
  },
  "language_info": {
   "codemirror_mode": {
    "name": "ipython",
    "version": 3
   },
   "file_extension": ".py",
   "mimetype": "text/x-python",
   "name": "python",
   "nbconvert_exporter": "python",
   "pygments_lexer": "ipython3",
   "version": "3.8.5"
  }
 },
 "nbformat": 4,
 "nbformat_minor": 4
}

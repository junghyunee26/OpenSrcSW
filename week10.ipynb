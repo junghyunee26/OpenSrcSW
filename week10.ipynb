{
 "cells": [
  {
   "cell_type": "code",
   "execution_count": 2,
   "metadata": {},
   "outputs": [
    {
     "name": "stdout",
     "output_type": "stream",
     "text": [
      "Numbers?\n",
      "10 456 87 78\n",
      "Max =  456\n"
     ]
    }
   ],
   "source": [
    "print('Numbers?')\n",
    "lists = list(map(int, input().split()))\n",
    "Max = lists[0]\n",
    "for i in range (0,len(lists)):\n",
    "    if Max<lists[i]:\n",
    "        temp = Max\n",
    "        Max = lists[i]\n",
    "print('Max = ',Max)"
   ]
  },
  {
   "cell_type": "code",
   "execution_count": 4,
   "metadata": {},
   "outputs": [
    {
     "name": "stdout",
     "output_type": "stream",
     "text": [
      "암호화는 1, 복호화는 2 를 입력하세요: 2\n",
      "암호화 할 문자열을 입력하세요:efg  bcd\n",
      "abc  def  "
     ]
    }
   ],
   "source": [
    "menu = int(input('암호화는 1, 복호화는 2 를 입력하세요: '))\n",
    "\n",
    "def encode(w):\n",
    "        word_s = \"\"\n",
    "        for i in range(0,len(w)):\n",
    "            c = w[i]\n",
    "            ac = ord(c)\n",
    "            ac += 1\n",
    "            c = chr(ac)\n",
    "            word_s += c\n",
    "        return word_s\n",
    "    \n",
    "def decode(w):\n",
    "    word_s = \"\"\n",
    "    for i in range(0,len(w)):\n",
    "        c = w[i]\n",
    "        ac = ord(c)\n",
    "        ac -= 1\n",
    "        c = chr(ac)\n",
    "        word_s += c\n",
    "    return word_s\n",
    "    \n",
    "if (menu == 1):\n",
    "    words = input('암호화 할 문자열을 입력하세요:')\n",
    "    word2 = words.split()\n",
    "    temp = word2[0]\n",
    "    word2[0] = word2[1]\n",
    "    word2[1] = temp\n",
    "    \n",
    "    for i in range(0,len(word2)):\n",
    "        kkk= encode(word2[i])\n",
    "        print(kkk,' ',end='')\n",
    "\n",
    "else:\n",
    "    words = input('복호화 할 문자열을 입력하세요:')\n",
    "    word2 = words.split()\n",
    "    temp = word2[0]\n",
    "    word2[0] = word2[1]\n",
    "    word2[1] = temp\n",
    "    \n",
    "    for i in range(0,len(word2)):\n",
    "        kkk= decode(word2[i])\n",
    "        print(kkk,' ',end='')"
   ]
  },
  {
   "cell_type": "code",
   "execution_count": null,
   "metadata": {},
   "outputs": [],
   "source": [
    "member = {}\n",
    "for i in range(0,10):\n",
    "    name = input('Enter the Name: ')\n",
    "    phone = input('Enter the phone number: ')\n",
    "    member[name] = phone\n",
    "\n",
    "\n",
    "def get_name(val):\n",
    "    val = input('Phone Number?')\n",
    "    for name, phone in member.items():\n",
    "        if val == phone:\n",
    "            return name\n",
    "        \n",
    "menu = int(input('이름 찾기는 1, 전화번호 찾기는 2를 입력해주세요:'))\n",
    "if menu == 1:\n",
    "    name = input('Name?')\n",
    "    phone = member.get(name,'존재하지 않습니다.')\n",
    "    print(phone)\n",
    "else:\n",
    "    val = input('Phone Number?')\n",
    "    for name, phone in member.items():\n",
    "        if val == phone:\n",
    "            print(name)"
   ]
  },
  {
   "cell_type": "code",
   "execution_count": null,
   "metadata": {},
   "outputs": [],
   "source": []
  }
 ],
 "metadata": {
  "kernelspec": {
   "display_name": "Python 3",
   "language": "python",
   "name": "python3"
  },
  "language_info": {
   "codemirror_mode": {
    "name": "ipython",
    "version": 3
   },
   "file_extension": ".py",
   "mimetype": "text/x-python",
   "name": "python",
   "nbconvert_exporter": "python",
   "pygments_lexer": "ipython3",
   "version": "3.8.5"
  }
 },
 "nbformat": 4,
 "nbformat_minor": 4
}
